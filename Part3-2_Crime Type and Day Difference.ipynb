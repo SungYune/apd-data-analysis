{
 "cells": [
  {
   "cell_type": "markdown",
   "id": "4b38489d-4c90-4e0c-bf7f-0a25f03ef54c",
   "metadata": {
    "tags": []
   },
   "source": [
    "## Part 0: Defining \"Big Idea\""
   ]
  },
  {
   "cell_type": "markdown",
   "id": "3307f417-9b82-4a16-91d6-425730b18247",
   "metadata": {},
   "source": [
    "### The mission of the Atlanta Police Department\n",
    "1. to create a safer Atlanta by reducing crime\n",
    "2. ensuring the safety of our citizens \n",
    "3. building trust in partnership with our community. \n",
    "\n",
    "[source](https://www.atlantaga.gov/government/departments/police#:~:text=The%20mission%20of%20the%20Atlanta,in%20partnership%20with%20our%20community.)"
   ]
  },
  {
   "cell_type": "markdown",
   "id": "ee7fa4b3-d2e0-4e8d-b68a-6e9ee1efcfb1",
   "metadata": {
    "tags": []
   },
   "source": [
    "### [Report: Atlanta Georgia Crime Rate Statistics](https://gitnux.org/atlanta-georgia-crime-rate/#:~:text=Atlanta's%20crime%20rate%20is%20122,higher%20than%20the%20national%20average.)\n",
    "- Atlanta's crime rate is 122% higher than the national average.\n",
    "- The violent crime rate in Atlanta is 253% higher than the national average.\n",
    "- The property crime rate in Atlanta is 98% higher than the national average.\n",
    "- In 2020, Atlanta Police Department reported a total of 154 homicides.\n",
    "- Atlanta's overall crime rate is higher than 97% of U.S. cities.\n",
    "- Atlanta has a 1 in 25 chance of becoming a victim of any crime."
   ]
  },
  {
   "cell_type": "markdown",
   "id": "022c209e-b935-4105-867e-d6094b2e9ba5",
   "metadata": {},
   "source": [
    "# Part 1"
   ]
  },
  {
   "cell_type": "markdown",
   "id": "a96e7519-6a93-43f2-aaa2-03a801390f40",
   "metadata": {
    "tags": []
   },
   "source": [
    "## Pre-Preparation"
   ]
  },
  {
   "cell_type": "markdown",
   "id": "ca9b62f8-71d5-4490-9b00-76d7faf49323",
   "metadata": {
    "tags": []
   },
   "source": [
    "### Import Libraries"
   ]
  },
  {
   "cell_type": "code",
   "execution_count": 1,
   "id": "bc4911cc-5c71-441b-9f9a-b8181bb8958f",
   "metadata": {},
   "outputs": [],
   "source": [
    "# import libraries\n",
    "import numpy as np\n",
    "import pandas as pd\n",
    "import matplotlib.pyplot as plt\n",
    "import scipy.stats\n",
    "from scipy.stats import chi2\n",
    "\n",
    "import matplotlib.pyplot as plt\n",
    "import seaborn as sns\n",
    "%matplotlib inline"
   ]
  },
  {
   "cell_type": "markdown",
   "id": "bc59e010-87cb-4572-a269-f83d38ffb4e8",
   "metadata": {
    "tags": []
   },
   "source": [
    "### Load Dataset"
   ]
  },
  {
   "cell_type": "code",
   "execution_count": 2,
   "id": "a88b2157-632f-423b-9cc9-9c7f0ab90dcd",
   "metadata": {},
   "outputs": [
    {
     "data": {
      "text/html": [
       "<div>\n",
       "<style scoped>\n",
       "    .dataframe tbody tr th:only-of-type {\n",
       "        vertical-align: middle;\n",
       "    }\n",
       "\n",
       "    .dataframe tbody tr th {\n",
       "        vertical-align: top;\n",
       "    }\n",
       "\n",
       "    .dataframe thead th {\n",
       "        text-align: right;\n",
       "    }\n",
       "</style>\n",
       "<table border=\"1\" class=\"dataframe\">\n",
       "  <thead>\n",
       "    <tr style=\"text-align: right;\">\n",
       "      <th></th>\n",
       "      <th>Report Number</th>\n",
       "      <th>Report Date</th>\n",
       "      <th>Day Occurred</th>\n",
       "      <th>Occur Date</th>\n",
       "      <th>Occur Time</th>\n",
       "      <th>Zone</th>\n",
       "      <th>Crime Type</th>\n",
       "      <th>ObjectId</th>\n",
       "      <th>Daydif</th>\n",
       "    </tr>\n",
       "  </thead>\n",
       "  <tbody>\n",
       "    <tr>\n",
       "      <th>0</th>\n",
       "      <td>203581105</td>\n",
       "      <td>2020-12-23</td>\n",
       "      <td>Wednesday</td>\n",
       "      <td>2020-12-23</td>\n",
       "      <td>10:00:00</td>\n",
       "      <td>4</td>\n",
       "      <td>BURGLARY</td>\n",
       "      <td>1</td>\n",
       "      <td>0</td>\n",
       "    </tr>\n",
       "    <tr>\n",
       "      <th>1</th>\n",
       "      <td>203581144</td>\n",
       "      <td>2020-12-23</td>\n",
       "      <td>Wednesday</td>\n",
       "      <td>2020-12-23</td>\n",
       "      <td>17:16:00</td>\n",
       "      <td>5</td>\n",
       "      <td>LARCENY-FROM VEHICLE</td>\n",
       "      <td>2</td>\n",
       "      <td>0</td>\n",
       "    </tr>\n",
       "    <tr>\n",
       "      <th>2</th>\n",
       "      <td>203581174</td>\n",
       "      <td>2020-12-23</td>\n",
       "      <td>Saturday</td>\n",
       "      <td>2020-12-19</td>\n",
       "      <td>21:50:00</td>\n",
       "      <td>2</td>\n",
       "      <td>LARCENY-FROM VEHICLE</td>\n",
       "      <td>3</td>\n",
       "      <td>4</td>\n",
       "    </tr>\n",
       "    <tr>\n",
       "      <th>3</th>\n",
       "      <td>203581238</td>\n",
       "      <td>2020-12-23</td>\n",
       "      <td>Wednesday</td>\n",
       "      <td>2020-12-23</td>\n",
       "      <td>18:05:00</td>\n",
       "      <td>2</td>\n",
       "      <td>AUTO THEFT</td>\n",
       "      <td>4</td>\n",
       "      <td>0</td>\n",
       "    </tr>\n",
       "    <tr>\n",
       "      <th>4</th>\n",
       "      <td>203581247</td>\n",
       "      <td>2020-12-23</td>\n",
       "      <td>Wednesday</td>\n",
       "      <td>2020-12-23</td>\n",
       "      <td>18:12:00</td>\n",
       "      <td>2</td>\n",
       "      <td>LARCENY-NON VEHICLE</td>\n",
       "      <td>5</td>\n",
       "      <td>0</td>\n",
       "    </tr>\n",
       "  </tbody>\n",
       "</table>\n",
       "</div>"
      ],
      "text/plain": [
       "   Report Number Report Date Day Occurred Occur Date Occur Time  Zone  \\\n",
       "0      203581105  2020-12-23    Wednesday 2020-12-23   10:00:00     4   \n",
       "1      203581144  2020-12-23    Wednesday 2020-12-23   17:16:00     5   \n",
       "2      203581174  2020-12-23     Saturday 2020-12-19   21:50:00     2   \n",
       "3      203581238  2020-12-23    Wednesday 2020-12-23   18:05:00     2   \n",
       "4      203581247  2020-12-23    Wednesday 2020-12-23   18:12:00     2   \n",
       "\n",
       "             Crime Type  ObjectId  Daydif  \n",
       "0              BURGLARY         1       0  \n",
       "1  LARCENY-FROM VEHICLE         2       0  \n",
       "2  LARCENY-FROM VEHICLE         3       4  \n",
       "3            AUTO THEFT         4       0  \n",
       "4   LARCENY-NON VEHICLE         5       0  "
      ]
     },
     "execution_count": 2,
     "metadata": {},
     "output_type": "execute_result"
    }
   ],
   "source": [
    "df = pd.read_excel(\"APD_CrimeData_ver2.xlsx\")\n",
    "df.head()"
   ]
  },
  {
   "cell_type": "code",
   "execution_count": 3,
   "id": "33f4b28c-2eef-4c6d-8986-54dc681c64f5",
   "metadata": {},
   "outputs": [
    {
     "data": {
      "text/plain": [
       "Crime Type          \n",
       "LARCENY-FROM VEHICLE    101562\n",
       "LARCENY-NON VEHICLE      73442\n",
       "BURGLARY                 49331\n",
       "AUTO THEFT               43207\n",
       "AGG ASSAULT              24435\n",
       "ROBBERY                  19793\n",
       "HOMICIDE                  1029\n",
       "dtype: int64"
      ]
     },
     "execution_count": 3,
     "metadata": {},
     "output_type": "execute_result"
    }
   ],
   "source": [
    "df[['Crime Type']].value_counts()"
   ]
  },
  {
   "cell_type": "code",
   "execution_count": 4,
   "id": "bc792c5a-1729-414c-98c5-72bef30746a2",
   "metadata": {},
   "outputs": [
    {
     "data": {
      "text/html": [
       "<div>\n",
       "<style scoped>\n",
       "    .dataframe tbody tr th:only-of-type {\n",
       "        vertical-align: middle;\n",
       "    }\n",
       "\n",
       "    .dataframe tbody tr th {\n",
       "        vertical-align: top;\n",
       "    }\n",
       "\n",
       "    .dataframe thead th {\n",
       "        text-align: right;\n",
       "    }\n",
       "</style>\n",
       "<table border=\"1\" class=\"dataframe\">\n",
       "  <thead>\n",
       "    <tr style=\"text-align: right;\">\n",
       "      <th></th>\n",
       "      <th>Crime Type</th>\n",
       "      <th>Daydif</th>\n",
       "    </tr>\n",
       "  </thead>\n",
       "  <tbody>\n",
       "    <tr>\n",
       "      <th>0</th>\n",
       "      <td>BURGLARY</td>\n",
       "      <td>0</td>\n",
       "    </tr>\n",
       "    <tr>\n",
       "      <th>1</th>\n",
       "      <td>LARCENY-FROM VEHICLE</td>\n",
       "      <td>0</td>\n",
       "    </tr>\n",
       "    <tr>\n",
       "      <th>2</th>\n",
       "      <td>LARCENY-FROM VEHICLE</td>\n",
       "      <td>4</td>\n",
       "    </tr>\n",
       "    <tr>\n",
       "      <th>3</th>\n",
       "      <td>AUTO THEFT</td>\n",
       "      <td>0</td>\n",
       "    </tr>\n",
       "    <tr>\n",
       "      <th>4</th>\n",
       "      <td>LARCENY-NON VEHICLE</td>\n",
       "      <td>0</td>\n",
       "    </tr>\n",
       "  </tbody>\n",
       "</table>\n",
       "</div>"
      ],
      "text/plain": [
       "             Crime Type  Daydif\n",
       "0              BURGLARY       0\n",
       "1  LARCENY-FROM VEHICLE       0\n",
       "2  LARCENY-FROM VEHICLE       4\n",
       "3            AUTO THEFT       0\n",
       "4   LARCENY-NON VEHICLE       0"
      ]
     },
     "execution_count": 4,
     "metadata": {},
     "output_type": "execute_result"
    }
   ],
   "source": [
    "# 사용할 데이터만 잘라내기\n",
    "df1 = df[['Crime Type','Daydif']]\n",
    "df1.head()"
   ]
  },
  {
   "cell_type": "markdown",
   "id": "cac49fa9-8bed-4bab-a77d-d2907b39d91e",
   "metadata": {
    "tags": []
   },
   "source": [
    "## Chi-Square Test"
   ]
  },
  {
   "cell_type": "markdown",
   "id": "cb931913-13cc-4f68-b237-aa61f27b1e00",
   "metadata": {},
   "source": [
    "### 0) Hypothesis\n",
    "#### Ho: There is no significant association between Crime Type and Daydif (Number of days taken for the crime case to be reported).\n",
    "#### Ha: There is a significant association between Crime Type and Daydif."
   ]
  },
  {
   "cell_type": "markdown",
   "id": "504903ce-a34e-4196-b55e-b536bb9e4de4",
   "metadata": {
    "tags": []
   },
   "source": [
    "### 1) Contingency Table: CrossTab"
   ]
  },
  {
   "cell_type": "code",
   "execution_count": 5,
   "id": "60403867-9c4d-4c23-9287-923594392825",
   "metadata": {},
   "outputs": [
    {
     "name": "stdout",
     "output_type": "stream",
     "text": [
      "contingency_table :\n",
      " Daydif                    0      1     2     3     4     5    6    7\n",
      "Crime Type                                                          \n",
      "AGG ASSAULT           22411   1542   199   112    57    49   35   30\n",
      "AUTO THEFT            24481  14633  1686   998   549   401  241  218\n",
      "BURGLARY              30986  10794  2602  1823  1138   756  541  691\n",
      "HOMICIDE                693    274    35     7    10     5    1    4\n",
      "LARCENY-FROM VEHICLE  65045  29887  2817  1640   894   548  388  343\n",
      "LARCENY-NON VEHICLE   53033  10570  3116  2395  1482  1099  877  870\n",
      "ROBBERY               18383   1101   130    80    44    28   16   11\n"
     ]
    }
   ],
   "source": [
    "# 분할표(crosstab) 만들기\n",
    "ct_table = pd.crosstab(df1['Crime Type'], df1['Daydif'], margins=False)\n",
    "print('contingency_table :\\n', ct_table)"
   ]
  },
  {
   "cell_type": "markdown",
   "id": "2c9abb21-2114-471d-ad61-9aec089ece1b",
   "metadata": {
    "jp-MarkdownHeadingCollapsed": true,
    "tags": []
   },
   "source": [
    "### 2) Perform Test"
   ]
  },
  {
   "cell_type": "code",
   "execution_count": 6,
   "id": "1d76cf3b-3317-48ec-9416-5cae3a2a7448",
   "metadata": {},
   "outputs": [
    {
     "name": "stdout",
     "output_type": "stream",
     "text": [
      "Chi-square statistic: 24863.463148418134\n",
      "P-value: 0.0\n",
      "Degrees of freedom: 42\n",
      "Expected frequencies table:\n",
      "\n",
      "Daydif                           0             1            2            3  \\\n",
      "Crime Type                                                                   \n",
      "AGG ASSAULT           16797.710095   5374.545427   826.871170   551.117251   \n",
      "AUTO THEFT            29702.421120   9503.498435  1462.108559   974.508822   \n",
      "BURGLARY              33912.332175  10850.489071  1669.342405  1112.632090   \n",
      "HOMICIDE                707.380548    226.331379    34.820971    23.208498   \n",
      "LARCENY-FROM VEHICLE  69818.253844  22338.841115  3436.819715  2290.671997   \n",
      "LARCENY-NON VEHICLE   50487.310202  16153.769807  2485.249537  1656.441709   \n",
      "ROBBERY               13606.592016   4353.524765   669.787643   446.419634   \n",
      "\n",
      "Daydif                          4           5           6           7  \n",
      "Crime Type                                                             \n",
      "AGG ASSAULT            326.061432  225.446405  163.968123  169.280097  \n",
      "AUTO THEFT             576.555609  398.643864  289.935367  299.328224  \n",
      "BURGLARY               658.274464  455.146167  331.029732  341.753896  \n",
      "HOMICIDE                13.731009    9.493937    6.904981    7.128677  \n",
      "LARCENY-FROM VEHICLE  1355.246622  937.048814  681.519564  703.598330  \n",
      "LARCENY-NON VEHICLE    980.012430  677.603228  492.823692  508.789395  \n",
      "ROBBERY                264.118434  182.617585  132.818542  137.121381  \n"
     ]
    }
   ],
   "source": [
    "chi2, p, dof, expected = scipy.stats.chi2_contingency(ct_table)\n",
    " \n",
    "print(\"Chi-square statistic:\", chi2)\n",
    "print(\"P-value:\", p)\n",
    "print(\"Degrees of freedom:\", dof)\n",
    "print(\"Expected frequencies table:\\n\")\n",
    "print(pd.DataFrame(expected, index=ct_table.index, columns=ct_table.columns))"
   ]
  },
  {
   "cell_type": "markdown",
   "id": "49470e66-089e-488c-a35c-7d6e91051f62",
   "metadata": {
    "tags": []
   },
   "source": [
    "### 3) Conclusion: Reject Ho\n",
    "Since the p-value is less than the chosen significance level of 0.05, we reject the null hypothesis. Therefore, we conclude that there is a significant association between the type of crime (Crime Type) and the number of days it took for an occured crime to be reported (Daydif). In other words, the distribution of crime types significantly differs across different intervals of number of days it took for an occured crime to be reported. \n",
    "\n",
    "**범죄종류와 |발생일-신고일| 간에 상관성이 존재한다.**"
   ]
  },
  {
   "cell_type": "markdown",
   "id": "e668c7f7-9620-43e8-871a-72fbb34bfc0d",
   "metadata": {},
   "source": [
    "### 4) Run Test again with ONLY Violent Crimes / Property Crimes"
   ]
  },
  {
   "cell_type": "markdown",
   "id": "fed0c1bf-5dce-4dd1-9cf2-7aa7c16f6ae1",
   "metadata": {},
   "source": [
    "#### 4-0) Hypothesis\n",
    "##### Ho: There is no significant association between Violent/Property Crime Type and Number of days taken for the crime case to be reported (Daydif).\n",
    "##### Ha: There is a significant association between Violent/Property Crime Type and Daydif."
   ]
  },
  {
   "cell_type": "code",
   "execution_count": 29,
   "id": "adebf0d6-66b0-4e8d-8e50-0a2152e5549e",
   "metadata": {
    "tags": []
   },
   "outputs": [
    {
     "data": {
      "text/html": [
       "<div>\n",
       "<style scoped>\n",
       "    .dataframe tbody tr th:only-of-type {\n",
       "        vertical-align: middle;\n",
       "    }\n",
       "\n",
       "    .dataframe tbody tr th {\n",
       "        vertical-align: top;\n",
       "    }\n",
       "\n",
       "    .dataframe thead th {\n",
       "        text-align: right;\n",
       "    }\n",
       "</style>\n",
       "<table border=\"1\" class=\"dataframe\">\n",
       "  <thead>\n",
       "    <tr style=\"text-align: right;\">\n",
       "      <th></th>\n",
       "      <th>Crime Type</th>\n",
       "      <th>Daydif</th>\n",
       "    </tr>\n",
       "  </thead>\n",
       "  <tbody>\n",
       "    <tr>\n",
       "      <th>5</th>\n",
       "      <td>AGG ASSAULT</td>\n",
       "      <td>0</td>\n",
       "    </tr>\n",
       "    <tr>\n",
       "      <th>14</th>\n",
       "      <td>AGG ASSAULT</td>\n",
       "      <td>0</td>\n",
       "    </tr>\n",
       "    <tr>\n",
       "      <th>23</th>\n",
       "      <td>AGG ASSAULT</td>\n",
       "      <td>1</td>\n",
       "    </tr>\n",
       "    <tr>\n",
       "      <th>30</th>\n",
       "      <td>AGG ASSAULT</td>\n",
       "      <td>0</td>\n",
       "    </tr>\n",
       "    <tr>\n",
       "      <th>32</th>\n",
       "      <td>AGG ASSAULT</td>\n",
       "      <td>0</td>\n",
       "    </tr>\n",
       "    <tr>\n",
       "      <th>...</th>\n",
       "      <td>...</td>\n",
       "      <td>...</td>\n",
       "    </tr>\n",
       "    <tr>\n",
       "      <th>312776</th>\n",
       "      <td>ROBBERY</td>\n",
       "      <td>1</td>\n",
       "    </tr>\n",
       "    <tr>\n",
       "      <th>312783</th>\n",
       "      <td>AGG ASSAULT</td>\n",
       "      <td>2</td>\n",
       "    </tr>\n",
       "    <tr>\n",
       "      <th>312784</th>\n",
       "      <td>HOMICIDE</td>\n",
       "      <td>0</td>\n",
       "    </tr>\n",
       "    <tr>\n",
       "      <th>312787</th>\n",
       "      <td>ROBBERY</td>\n",
       "      <td>0</td>\n",
       "    </tr>\n",
       "    <tr>\n",
       "      <th>312791</th>\n",
       "      <td>ROBBERY</td>\n",
       "      <td>0</td>\n",
       "    </tr>\n",
       "  </tbody>\n",
       "</table>\n",
       "<p>45257 rows × 2 columns</p>\n",
       "</div>"
      ],
      "text/plain": [
       "         Crime Type  Daydif\n",
       "5       AGG ASSAULT       0\n",
       "14      AGG ASSAULT       0\n",
       "23      AGG ASSAULT       1\n",
       "30      AGG ASSAULT       0\n",
       "32      AGG ASSAULT       0\n",
       "...             ...     ...\n",
       "312776      ROBBERY       1\n",
       "312783  AGG ASSAULT       2\n",
       "312784     HOMICIDE       0\n",
       "312787      ROBBERY       0\n",
       "312791      ROBBERY       0\n",
       "\n",
       "[45257 rows x 2 columns]"
      ]
     },
     "execution_count": 29,
     "metadata": {},
     "output_type": "execute_result"
    }
   ],
   "source": [
    "violent_cond = (df1['Crime Type']=='AGG ASSAULT')|(df1['Crime Type']=='ROBBERY')|(df1['Crime Type']=='HOMICIDE')\n",
    "violent = df1.loc[violent_cond]\n",
    "violent # SIZE (45257,2)"
   ]
  },
  {
   "cell_type": "code",
   "execution_count": 31,
   "id": "fbf77773-f4c0-4e4e-ab2b-8ba17874b8f3",
   "metadata": {
    "tags": []
   },
   "outputs": [
    {
     "data": {
      "text/html": [
       "<div>\n",
       "<style scoped>\n",
       "    .dataframe tbody tr th:only-of-type {\n",
       "        vertical-align: middle;\n",
       "    }\n",
       "\n",
       "    .dataframe tbody tr th {\n",
       "        vertical-align: top;\n",
       "    }\n",
       "\n",
       "    .dataframe thead th {\n",
       "        text-align: right;\n",
       "    }\n",
       "</style>\n",
       "<table border=\"1\" class=\"dataframe\">\n",
       "  <thead>\n",
       "    <tr style=\"text-align: right;\">\n",
       "      <th></th>\n",
       "      <th>Crime Type</th>\n",
       "      <th>Daydif</th>\n",
       "    </tr>\n",
       "  </thead>\n",
       "  <tbody>\n",
       "    <tr>\n",
       "      <th>0</th>\n",
       "      <td>BURGLARY</td>\n",
       "      <td>0</td>\n",
       "    </tr>\n",
       "    <tr>\n",
       "      <th>1</th>\n",
       "      <td>LARCENY-FROM VEHICLE</td>\n",
       "      <td>0</td>\n",
       "    </tr>\n",
       "    <tr>\n",
       "      <th>2</th>\n",
       "      <td>LARCENY-FROM VEHICLE</td>\n",
       "      <td>4</td>\n",
       "    </tr>\n",
       "    <tr>\n",
       "      <th>3</th>\n",
       "      <td>AUTO THEFT</td>\n",
       "      <td>0</td>\n",
       "    </tr>\n",
       "    <tr>\n",
       "      <th>4</th>\n",
       "      <td>LARCENY-NON VEHICLE</td>\n",
       "      <td>0</td>\n",
       "    </tr>\n",
       "    <tr>\n",
       "      <th>...</th>\n",
       "      <td>...</td>\n",
       "      <td>...</td>\n",
       "    </tr>\n",
       "    <tr>\n",
       "      <th>312794</th>\n",
       "      <td>LARCENY-NON VEHICLE</td>\n",
       "      <td>1</td>\n",
       "    </tr>\n",
       "    <tr>\n",
       "      <th>312795</th>\n",
       "      <td>LARCENY-NON VEHICLE</td>\n",
       "      <td>1</td>\n",
       "    </tr>\n",
       "    <tr>\n",
       "      <th>312796</th>\n",
       "      <td>LARCENY-NON VEHICLE</td>\n",
       "      <td>0</td>\n",
       "    </tr>\n",
       "    <tr>\n",
       "      <th>312797</th>\n",
       "      <td>LARCENY-NON VEHICLE</td>\n",
       "      <td>1</td>\n",
       "    </tr>\n",
       "    <tr>\n",
       "      <th>312798</th>\n",
       "      <td>LARCENY-FROM VEHICLE</td>\n",
       "      <td>0</td>\n",
       "    </tr>\n",
       "  </tbody>\n",
       "</table>\n",
       "<p>267542 rows × 2 columns</p>\n",
       "</div>"
      ],
      "text/plain": [
       "                  Crime Type  Daydif\n",
       "0                   BURGLARY       0\n",
       "1       LARCENY-FROM VEHICLE       0\n",
       "2       LARCENY-FROM VEHICLE       4\n",
       "3                 AUTO THEFT       0\n",
       "4        LARCENY-NON VEHICLE       0\n",
       "...                      ...     ...\n",
       "312794   LARCENY-NON VEHICLE       1\n",
       "312795   LARCENY-NON VEHICLE       1\n",
       "312796   LARCENY-NON VEHICLE       0\n",
       "312797   LARCENY-NON VEHICLE       1\n",
       "312798  LARCENY-FROM VEHICLE       0\n",
       "\n",
       "[267542 rows x 2 columns]"
      ]
     },
     "execution_count": 31,
     "metadata": {},
     "output_type": "execute_result"
    }
   ],
   "source": [
    "proprty = df1.loc[~violent_cond]\n",
    "proprty # SIZE (267542,2)"
   ]
  },
  {
   "cell_type": "markdown",
   "id": "6bb842ab-a0ad-4bf2-831e-5f4ac7526e92",
   "metadata": {
    "tags": []
   },
   "source": [
    "#### 4-1) Contingency Table: CrossTab"
   ]
  },
  {
   "cell_type": "markdown",
   "id": "8647545f-5a65-48d3-8aaf-05bb2f0540ef",
   "metadata": {},
   "source": [
    "violent => not significant"
   ]
  },
  {
   "cell_type": "code",
   "execution_count": 32,
   "id": "ed094a2d-b382-4bd1-80f8-3438c7db4a43",
   "metadata": {},
   "outputs": [
    {
     "name": "stdout",
     "output_type": "stream",
     "text": [
      "contingency_table :\n",
      " Daydif           0     1    2    3   4   5   6   7\n",
      "Crime Type                                        \n",
      "AGG ASSAULT  22411  1542  199  112  57  49  35  30\n",
      "HOMICIDE       693   274   35    7  10   5   1   4\n",
      "ROBBERY      18383  1101  130   80  44  28  16  11\n",
      "contingency_table :\n",
      " Daydif                    0      1     2     3     4     5    6    7\n",
      "Crime Type                                                          \n",
      "AUTO THEFT            24481  14633  1686   998   549   401  241  218\n",
      "BURGLARY              30986  10794  2602  1823  1138   756  541  691\n",
      "LARCENY-FROM VEHICLE  65045  29887  2817  1640   894   548  388  343\n",
      "LARCENY-NON VEHICLE   53033  10570  3116  2395  1482  1099  877  870\n"
     ]
    }
   ],
   "source": [
    "# 분할표(crosstab) 만들기\n",
    "ct_violent = pd.crosstab(violent['Crime Type'], violent['Daydif'], margins=False)\n",
    "print('contingency_table :\\n', ct_violent)\n",
    "\n",
    "ct_proprty = pd.crosstab(proprty['Crime Type'], proprty['Daydif'], margins=False)\n",
    "print('contingency_table :\\n', ct_proprty)"
   ]
  },
  {
   "cell_type": "markdown",
   "id": "275b3f32-3b77-4b8e-ab9c-61d99a193ab2",
   "metadata": {
    "tags": []
   },
   "source": [
    "#### 4-2) Perform Test"
   ]
  },
  {
   "cell_type": "code",
   "execution_count": 26,
   "id": "eef1c996-1c87-485a-9e10-10316e2f9f1b",
   "metadata": {},
   "outputs": [
    {
     "name": "stdout",
     "output_type": "stream",
     "text": [
      "Chi-square statistic: 886.0459259984435\n",
      "P-value: 4.214102944642291e-180\n",
      "Degrees of freedom: 14\n",
      "Expected frequencies table:\n",
      "\n",
      "Daydif                  0            1           2           3          4  \\\n",
      "Crime Type                                                                  \n",
      "AGG ASSAULT  22399.514882  1574.936363  196.529598  107.443379  59.930729   \n",
      "HOMICIDE       943.282210    66.323287    8.276200    4.524626   2.523786   \n",
      "ROBBERY      18144.202908  1275.740350  159.194202   87.031995  48.545485   \n",
      "\n",
      "Daydif               5          6          7  \n",
      "Crime Type                                    \n",
      "AGG ASSAULT  44.273151  28.075657  24.296241  \n",
      "HOMICIDE      1.864419   1.182314   1.023157  \n",
      "ROBBERY      35.862430  22.742029  19.680602  \n"
     ]
    }
   ],
   "source": [
    "chi2, p, dof, expected = scipy.stats.chi2_contingency(ct_violent)\n",
    " \n",
    "print(\"Chi-square statistic:\", chi2)\n",
    "print(\"P-value:\", p)\n",
    "print(\"Degrees of freedom:\", dof)\n",
    "print(\"Expected frequencies table:\\n\")\n",
    "print(pd.DataFrame(expected, index=ct_violent.index, columns=ct_violent.columns))"
   ]
  },
  {
   "cell_type": "code",
   "execution_count": 33,
   "id": "b0ce2ad3-3284-4859-a8e8-73341165f13d",
   "metadata": {
    "tags": []
   },
   "outputs": [
    {
     "name": "stdout",
     "output_type": "stream",
     "text": [
      "Chi-square statistic: 10447.837399961933\n",
      "P-value: 0.0\n",
      "Degrees of freedom: 21\n",
      "Expected frequencies table:\n",
      "\n",
      "Daydif                           0             1            2            3  \\\n",
      "Crime Type                                                                   \n",
      "AUTO THEFT            28026.847430  10640.011617  1650.652036  1107.217528   \n",
      "BURGLARY              31999.268881  12148.087418  1884.609336  1264.150436   \n",
      "LARCENY-FROM VEHICLE  65879.664838  25010.319157  3880.008380  2602.615933   \n",
      "LARCENY-NON VEHICLE   47639.218852  18085.581808  2805.730248  1882.016102   \n",
      "\n",
      "Daydif                          4            5           6           7  \n",
      "Crime Type                                                              \n",
      "AUTO THEFT             656.158812   452.835174  330.582596  342.694807  \n",
      "BURGLARY               749.160330   517.018352  377.438148  391.267098  \n",
      "LARCENY-FROM VEHICLE  1542.361222  1064.430437  777.064588  805.535445  \n",
      "LARCENY-NON VEHICLE   1115.319636   769.716037  561.914668  582.502650  \n"
     ]
    }
   ],
   "source": [
    "chi2, p, dof, expected = scipy.stats.chi2_contingency(ct_proprty)\n",
    " \n",
    "print(\"Chi-square statistic:\", chi2)\n",
    "print(\"P-value:\", p)\n",
    "print(\"Degrees of freedom:\", dof)\n",
    "print(\"Expected frequencies table:\\n\")\n",
    "print(pd.DataFrame(expected, index=ct_proprty.index, columns=ct_proprty.columns))"
   ]
  },
  {
   "cell_type": "markdown",
   "id": "76189711-f065-49dc-849a-dbab247219e3",
   "metadata": {
    "jp-MarkdownHeadingCollapsed": true,
    "tags": []
   },
   "source": [
    "#### 4-3) Conclusion: Reject Ho\n",
    "The p-value is less than the chosen significance level of 0.05 for property crimes only so, we reject the null hypothesis. Therefore, we conclude that there is a significant association between the type of property crime (Crime Type) and the number of days it took for an occured crime to be reported (Daydif). In other words, the distribution of property crime types significantly differs across different intervals of number of days it took for an occured crime to be reported. \n",
    "\n",
    "**\"재산\"범죄종류와 |발생일-신고일| 간에 상관성이 존재한다.**"
   ]
  },
  {
   "cell_type": "markdown",
   "id": "2cc6c3dd-a258-4f8f-8121-2c9990c85711",
   "metadata": {
    "jp-MarkdownHeadingCollapsed": true,
    "tags": []
   },
   "source": [
    "## Correlation"
   ]
  },
  {
   "cell_type": "markdown",
   "id": "3e8542ab-eabb-4beb-9fe2-cc633af899d0",
   "metadata": {
    "tags": []
   },
   "source": [
    "### Correlation of Contingency Table: Cramer's V"
   ]
  },
  {
   "cell_type": "markdown",
   "id": "e651c3ef-3e47-4c3f-a913-c48acf0d6dee",
   "metadata": {},
   "source": [
    "Cramer's V is a measure of the strength of association between two . It ranges from 0 to 1 where: 0 indicates no association between the two variables. 1 indicates a strong association between the two variables.\n",
    "\n",
    "https://scales.arabpsychology.com/stats/how-to-calculate-cramers-v-in-python/\n",
    "\n",
    "- X2: The Chi-square statistic\n",
    "- n: Total sample size\n",
    "- r: Number of rows\n",
    "- c: Number of columns"
   ]
  },
  {
   "cell_type": "code",
   "execution_count": 7,
   "id": "9e1a8dda-d09a-4791-926a-5daaa037fc64",
   "metadata": {
    "tags": []
   },
   "outputs": [],
   "source": [
    "data = np.array(ct_table) # change data type from DataFrame to array"
   ]
  },
  {
   "cell_type": "code",
   "execution_count": 8,
   "id": "30c82515-939a-4037-8d48-0e003dc64720",
   "metadata": {
    "tags": []
   },
   "outputs": [
    {
     "name": "stdout",
     "output_type": "stream",
     "text": [
      "0.11509925346246473\n"
     ]
    }
   ],
   "source": [
    "#Chi-squared test statistic, sample size, and minimum of rows and columns\n",
    "X2 = scipy.stats.chi2_contingency(data, correction=False)[0] # statistic\n",
    "n = np.sum(data) # total sample size\n",
    "minDim = min(data.shape)-1 # minimum dimension\n",
    "\n",
    "#calculate Cramer's V \n",
    "V = np.sqrt((X2/n) / minDim)\n",
    "\n",
    "#display Cramer's V\n",
    "print(V)"
   ]
  },
  {
   "cell_type": "markdown",
   "id": "22052feb-07e2-4e5d-a213-4341c319e142",
   "metadata": {},
   "source": [
    "### Conclusion: association is weak.\n",
    "\n",
    "The Cramers V is 0.115, which depicts the weak association between the two variables- Crime Type and the Day Difference."
   ]
  },
  {
   "cell_type": "markdown",
   "id": "432516cb-8de6-4940-8a7d-857ee22148b1",
   "metadata": {
    "tags": []
   },
   "source": [
    "## Visualization"
   ]
  },
  {
   "cell_type": "markdown",
   "id": "12f62b8c-7527-4285-bef7-361fe1a487c4",
   "metadata": {
    "tags": []
   },
   "source": [
    "#### 1) Frequency Table - Hues by Day Difference"
   ]
  },
  {
   "cell_type": "code",
   "execution_count": 9,
   "id": "4a7683d7-669e-4738-a5d9-398c48085d26",
   "metadata": {
    "tags": []
   },
   "outputs": [
    {
     "data": {
      "text/html": [
       "<style type=\"text/css\">\n",
       "#T_448fe_row0_col0 {\n",
       "  background-color: #aacfe5;\n",
       "  color: #000000;\n",
       "}\n",
       "#T_448fe_row0_col1, #T_448fe_row0_col5 {\n",
       "  background-color: #eff6fc;\n",
       "  color: #000000;\n",
       "}\n",
       "#T_448fe_row0_col2 {\n",
       "  background-color: #edf4fc;\n",
       "  color: #000000;\n",
       "}\n",
       "#T_448fe_row0_col3 {\n",
       "  background-color: #eef5fc;\n",
       "  color: #000000;\n",
       "}\n",
       "#T_448fe_row0_col4 {\n",
       "  background-color: #f1f7fd;\n",
       "  color: #000000;\n",
       "}\n",
       "#T_448fe_row0_col6 {\n",
       "  background-color: #f0f6fd;\n",
       "  color: #000000;\n",
       "}\n",
       "#T_448fe_row0_col7, #T_448fe_row6_col1, #T_448fe_row6_col2, #T_448fe_row6_col3 {\n",
       "  background-color: #f2f7fd;\n",
       "  color: #000000;\n",
       "}\n",
       "#T_448fe_row1_col0 {\n",
       "  background-color: #a0cbe2;\n",
       "  color: #000000;\n",
       "}\n",
       "#T_448fe_row1_col1 {\n",
       "  background-color: #71b1d7;\n",
       "  color: #f1f1f1;\n",
       "}\n",
       "#T_448fe_row1_col2 {\n",
       "  background-color: #5fa6d1;\n",
       "  color: #f1f1f1;\n",
       "}\n",
       "#T_448fe_row1_col3 {\n",
       "  background-color: #8dc1dd;\n",
       "  color: #000000;\n",
       "}\n",
       "#T_448fe_row1_col4 {\n",
       "  background-color: #a1cbe2;\n",
       "  color: #000000;\n",
       "}\n",
       "#T_448fe_row1_col5 {\n",
       "  background-color: #a3cce3;\n",
       "  color: #000000;\n",
       "}\n",
       "#T_448fe_row1_col6, #T_448fe_row6_col0 {\n",
       "  background-color: #bed8ec;\n",
       "  color: #000000;\n",
       "}\n",
       "#T_448fe_row1_col7 {\n",
       "  background-color: #c7dbef;\n",
       "  color: #000000;\n",
       "}\n",
       "#T_448fe_row2_col0 {\n",
       "  background-color: #77b5d9;\n",
       "  color: #000000;\n",
       "}\n",
       "#T_448fe_row2_col1 {\n",
       "  background-color: #a5cde3;\n",
       "  color: #000000;\n",
       "}\n",
       "#T_448fe_row2_col2 {\n",
       "  background-color: #105ba4;\n",
       "  color: #f1f1f1;\n",
       "}\n",
       "#T_448fe_row2_col3 {\n",
       "  background-color: #1f6eb3;\n",
       "  color: #f1f1f1;\n",
       "}\n",
       "#T_448fe_row2_col4 {\n",
       "  background-color: #1d6cb1;\n",
       "  color: #f1f1f1;\n",
       "}\n",
       "#T_448fe_row2_col5, #T_448fe_row4_col3 {\n",
       "  background-color: #3282be;\n",
       "  color: #f1f1f1;\n",
       "}\n",
       "#T_448fe_row2_col6 {\n",
       "  background-color: #4594c7;\n",
       "  color: #f1f1f1;\n",
       "}\n",
       "#T_448fe_row2_col7 {\n",
       "  background-color: #1865ac;\n",
       "  color: #f1f1f1;\n",
       "}\n",
       "#T_448fe_row3_col0, #T_448fe_row3_col1, #T_448fe_row3_col2, #T_448fe_row3_col3, #T_448fe_row3_col4, #T_448fe_row3_col5, #T_448fe_row3_col6, #T_448fe_row3_col7 {\n",
       "  background-color: #f7fbff;\n",
       "  color: #000000;\n",
       "}\n",
       "#T_448fe_row4_col0, #T_448fe_row4_col1, #T_448fe_row5_col2, #T_448fe_row5_col3, #T_448fe_row5_col4, #T_448fe_row5_col5, #T_448fe_row5_col6, #T_448fe_row5_col7 {\n",
       "  background-color: #08306b;\n",
       "  color: #f1f1f1;\n",
       "}\n",
       "#T_448fe_row4_col2 {\n",
       "  background-color: #084990;\n",
       "  color: #f1f1f1;\n",
       "}\n",
       "#T_448fe_row4_col4 {\n",
       "  background-color: #4a98c9;\n",
       "  color: #f1f1f1;\n",
       "}\n",
       "#T_448fe_row4_col5 {\n",
       "  background-color: #6caed6;\n",
       "  color: #f1f1f1;\n",
       "}\n",
       "#T_448fe_row4_col6 {\n",
       "  background-color: #82bbdb;\n",
       "  color: #000000;\n",
       "}\n",
       "#T_448fe_row4_col7 {\n",
       "  background-color: #97c6df;\n",
       "  color: #000000;\n",
       "}\n",
       "#T_448fe_row5_col0 {\n",
       "  background-color: #1460a8;\n",
       "  color: #f1f1f1;\n",
       "}\n",
       "#T_448fe_row5_col1 {\n",
       "  background-color: #a6cee4;\n",
       "  color: #000000;\n",
       "}\n",
       "#T_448fe_row6_col4, #T_448fe_row6_col5 {\n",
       "  background-color: #f3f8fe;\n",
       "  color: #000000;\n",
       "}\n",
       "#T_448fe_row6_col6 {\n",
       "  background-color: #f4f9fe;\n",
       "  color: #000000;\n",
       "}\n",
       "#T_448fe_row6_col7 {\n",
       "  background-color: #f5fafe;\n",
       "  color: #000000;\n",
       "}\n",
       "</style>\n",
       "<table id=\"T_448fe\">\n",
       "  <thead>\n",
       "    <tr>\n",
       "      <th class=\"index_name level0\" >Daydif</th>\n",
       "      <th id=\"T_448fe_level0_col0\" class=\"col_heading level0 col0\" >0</th>\n",
       "      <th id=\"T_448fe_level0_col1\" class=\"col_heading level0 col1\" >1</th>\n",
       "      <th id=\"T_448fe_level0_col2\" class=\"col_heading level0 col2\" >2</th>\n",
       "      <th id=\"T_448fe_level0_col3\" class=\"col_heading level0 col3\" >3</th>\n",
       "      <th id=\"T_448fe_level0_col4\" class=\"col_heading level0 col4\" >4</th>\n",
       "      <th id=\"T_448fe_level0_col5\" class=\"col_heading level0 col5\" >5</th>\n",
       "      <th id=\"T_448fe_level0_col6\" class=\"col_heading level0 col6\" >6</th>\n",
       "      <th id=\"T_448fe_level0_col7\" class=\"col_heading level0 col7\" >7</th>\n",
       "    </tr>\n",
       "    <tr>\n",
       "      <th class=\"index_name level0\" >Crime Type</th>\n",
       "      <th class=\"blank col0\" >&nbsp;</th>\n",
       "      <th class=\"blank col1\" >&nbsp;</th>\n",
       "      <th class=\"blank col2\" >&nbsp;</th>\n",
       "      <th class=\"blank col3\" >&nbsp;</th>\n",
       "      <th class=\"blank col4\" >&nbsp;</th>\n",
       "      <th class=\"blank col5\" >&nbsp;</th>\n",
       "      <th class=\"blank col6\" >&nbsp;</th>\n",
       "      <th class=\"blank col7\" >&nbsp;</th>\n",
       "    </tr>\n",
       "  </thead>\n",
       "  <tbody>\n",
       "    <tr>\n",
       "      <th id=\"T_448fe_level0_row0\" class=\"row_heading level0 row0\" >AGG ASSAULT</th>\n",
       "      <td id=\"T_448fe_row0_col0\" class=\"data row0 col0\" >22411</td>\n",
       "      <td id=\"T_448fe_row0_col1\" class=\"data row0 col1\" >1542</td>\n",
       "      <td id=\"T_448fe_row0_col2\" class=\"data row0 col2\" >199</td>\n",
       "      <td id=\"T_448fe_row0_col3\" class=\"data row0 col3\" >112</td>\n",
       "      <td id=\"T_448fe_row0_col4\" class=\"data row0 col4\" >57</td>\n",
       "      <td id=\"T_448fe_row0_col5\" class=\"data row0 col5\" >49</td>\n",
       "      <td id=\"T_448fe_row0_col6\" class=\"data row0 col6\" >35</td>\n",
       "      <td id=\"T_448fe_row0_col7\" class=\"data row0 col7\" >30</td>\n",
       "    </tr>\n",
       "    <tr>\n",
       "      <th id=\"T_448fe_level0_row1\" class=\"row_heading level0 row1\" >AUTO THEFT</th>\n",
       "      <td id=\"T_448fe_row1_col0\" class=\"data row1 col0\" >24481</td>\n",
       "      <td id=\"T_448fe_row1_col1\" class=\"data row1 col1\" >14633</td>\n",
       "      <td id=\"T_448fe_row1_col2\" class=\"data row1 col2\" >1686</td>\n",
       "      <td id=\"T_448fe_row1_col3\" class=\"data row1 col3\" >998</td>\n",
       "      <td id=\"T_448fe_row1_col4\" class=\"data row1 col4\" >549</td>\n",
       "      <td id=\"T_448fe_row1_col5\" class=\"data row1 col5\" >401</td>\n",
       "      <td id=\"T_448fe_row1_col6\" class=\"data row1 col6\" >241</td>\n",
       "      <td id=\"T_448fe_row1_col7\" class=\"data row1 col7\" >218</td>\n",
       "    </tr>\n",
       "    <tr>\n",
       "      <th id=\"T_448fe_level0_row2\" class=\"row_heading level0 row2\" >BURGLARY</th>\n",
       "      <td id=\"T_448fe_row2_col0\" class=\"data row2 col0\" >30986</td>\n",
       "      <td id=\"T_448fe_row2_col1\" class=\"data row2 col1\" >10794</td>\n",
       "      <td id=\"T_448fe_row2_col2\" class=\"data row2 col2\" >2602</td>\n",
       "      <td id=\"T_448fe_row2_col3\" class=\"data row2 col3\" >1823</td>\n",
       "      <td id=\"T_448fe_row2_col4\" class=\"data row2 col4\" >1138</td>\n",
       "      <td id=\"T_448fe_row2_col5\" class=\"data row2 col5\" >756</td>\n",
       "      <td id=\"T_448fe_row2_col6\" class=\"data row2 col6\" >541</td>\n",
       "      <td id=\"T_448fe_row2_col7\" class=\"data row2 col7\" >691</td>\n",
       "    </tr>\n",
       "    <tr>\n",
       "      <th id=\"T_448fe_level0_row3\" class=\"row_heading level0 row3\" >HOMICIDE</th>\n",
       "      <td id=\"T_448fe_row3_col0\" class=\"data row3 col0\" >693</td>\n",
       "      <td id=\"T_448fe_row3_col1\" class=\"data row3 col1\" >274</td>\n",
       "      <td id=\"T_448fe_row3_col2\" class=\"data row3 col2\" >35</td>\n",
       "      <td id=\"T_448fe_row3_col3\" class=\"data row3 col3\" >7</td>\n",
       "      <td id=\"T_448fe_row3_col4\" class=\"data row3 col4\" >10</td>\n",
       "      <td id=\"T_448fe_row3_col5\" class=\"data row3 col5\" >5</td>\n",
       "      <td id=\"T_448fe_row3_col6\" class=\"data row3 col6\" >1</td>\n",
       "      <td id=\"T_448fe_row3_col7\" class=\"data row3 col7\" >4</td>\n",
       "    </tr>\n",
       "    <tr>\n",
       "      <th id=\"T_448fe_level0_row4\" class=\"row_heading level0 row4\" >LARCENY-FROM VEHICLE</th>\n",
       "      <td id=\"T_448fe_row4_col0\" class=\"data row4 col0\" >65045</td>\n",
       "      <td id=\"T_448fe_row4_col1\" class=\"data row4 col1\" >29887</td>\n",
       "      <td id=\"T_448fe_row4_col2\" class=\"data row4 col2\" >2817</td>\n",
       "      <td id=\"T_448fe_row4_col3\" class=\"data row4 col3\" >1640</td>\n",
       "      <td id=\"T_448fe_row4_col4\" class=\"data row4 col4\" >894</td>\n",
       "      <td id=\"T_448fe_row4_col5\" class=\"data row4 col5\" >548</td>\n",
       "      <td id=\"T_448fe_row4_col6\" class=\"data row4 col6\" >388</td>\n",
       "      <td id=\"T_448fe_row4_col7\" class=\"data row4 col7\" >343</td>\n",
       "    </tr>\n",
       "    <tr>\n",
       "      <th id=\"T_448fe_level0_row5\" class=\"row_heading level0 row5\" >LARCENY-NON VEHICLE</th>\n",
       "      <td id=\"T_448fe_row5_col0\" class=\"data row5 col0\" >53033</td>\n",
       "      <td id=\"T_448fe_row5_col1\" class=\"data row5 col1\" >10570</td>\n",
       "      <td id=\"T_448fe_row5_col2\" class=\"data row5 col2\" >3116</td>\n",
       "      <td id=\"T_448fe_row5_col3\" class=\"data row5 col3\" >2395</td>\n",
       "      <td id=\"T_448fe_row5_col4\" class=\"data row5 col4\" >1482</td>\n",
       "      <td id=\"T_448fe_row5_col5\" class=\"data row5 col5\" >1099</td>\n",
       "      <td id=\"T_448fe_row5_col6\" class=\"data row5 col6\" >877</td>\n",
       "      <td id=\"T_448fe_row5_col7\" class=\"data row5 col7\" >870</td>\n",
       "    </tr>\n",
       "    <tr>\n",
       "      <th id=\"T_448fe_level0_row6\" class=\"row_heading level0 row6\" >ROBBERY</th>\n",
       "      <td id=\"T_448fe_row6_col0\" class=\"data row6 col0\" >18383</td>\n",
       "      <td id=\"T_448fe_row6_col1\" class=\"data row6 col1\" >1101</td>\n",
       "      <td id=\"T_448fe_row6_col2\" class=\"data row6 col2\" >130</td>\n",
       "      <td id=\"T_448fe_row6_col3\" class=\"data row6 col3\" >80</td>\n",
       "      <td id=\"T_448fe_row6_col4\" class=\"data row6 col4\" >44</td>\n",
       "      <td id=\"T_448fe_row6_col5\" class=\"data row6 col5\" >28</td>\n",
       "      <td id=\"T_448fe_row6_col6\" class=\"data row6 col6\" >16</td>\n",
       "      <td id=\"T_448fe_row6_col7\" class=\"data row6 col7\" >11</td>\n",
       "    </tr>\n",
       "  </tbody>\n",
       "</table>\n"
      ],
      "text/plain": [
       "<pandas.io.formats.style.Styler at 0x1674747d0>"
      ]
     },
     "execution_count": 9,
     "metadata": {},
     "output_type": "execute_result"
    }
   ],
   "source": [
    "df_viz = pd.DataFrame(ct_table)\n",
    "df_viz.style.background_gradient(cmap='Blues')"
   ]
  },
  {
   "cell_type": "code",
   "execution_count": 77,
   "id": "9c4bbc2e-5b4b-47c6-8ff7-60bc48327b5f",
   "metadata": {
    "tags": []
   },
   "outputs": [
    {
     "data": {
      "text/html": [
       "<style type=\"text/css\">\n",
       "#T_77ea4_row0_col0, #T_77ea4_row0_col1, #T_77ea4_row0_col2, #T_77ea4_row0_col3, #T_77ea4_row0_col4, #T_77ea4_row0_col5, #T_77ea4_row0_col6, #T_77ea4_row0_col7 {\n",
       "  background-color: #3f007d;\n",
       "  color: #f1f1f1;\n",
       "}\n",
       "#T_77ea4_row1_col0, #T_77ea4_row1_col1, #T_77ea4_row1_col2, #T_77ea4_row1_col3, #T_77ea4_row1_col4, #T_77ea4_row1_col5, #T_77ea4_row1_col6, #T_77ea4_row1_col7 {\n",
       "  background-color: #fcfbfd;\n",
       "  color: #000000;\n",
       "}\n",
       "#T_77ea4_row2_col0 {\n",
       "  background-color: #5e3b98;\n",
       "  color: #f1f1f1;\n",
       "}\n",
       "#T_77ea4_row2_col1 {\n",
       "  background-color: #7b74b5;\n",
       "  color: #f1f1f1;\n",
       "}\n",
       "#T_77ea4_row2_col2 {\n",
       "  background-color: #8b87bf;\n",
       "  color: #f1f1f1;\n",
       "}\n",
       "#T_77ea4_row2_col3 {\n",
       "  background-color: #7465ad;\n",
       "  color: #f1f1f1;\n",
       "}\n",
       "#T_77ea4_row2_col4 {\n",
       "  background-color: #6e5aa8;\n",
       "  color: #f1f1f1;\n",
       "}\n",
       "#T_77ea4_row2_col5 {\n",
       "  background-color: #9995c6;\n",
       "  color: #f1f1f1;\n",
       "}\n",
       "#T_77ea4_row2_col6 {\n",
       "  background-color: #adabd2;\n",
       "  color: #000000;\n",
       "}\n",
       "#T_77ea4_row2_col7 {\n",
       "  background-color: #d6d6e9;\n",
       "  color: #000000;\n",
       "}\n",
       "</style>\n",
       "<table id=\"T_77ea4\">\n",
       "  <thead>\n",
       "    <tr>\n",
       "      <th class=\"index_name level0\" >Daydif</th>\n",
       "      <th id=\"T_77ea4_level0_col0\" class=\"col_heading level0 col0\" >0</th>\n",
       "      <th id=\"T_77ea4_level0_col1\" class=\"col_heading level0 col1\" >1</th>\n",
       "      <th id=\"T_77ea4_level0_col2\" class=\"col_heading level0 col2\" >2</th>\n",
       "      <th id=\"T_77ea4_level0_col3\" class=\"col_heading level0 col3\" >3</th>\n",
       "      <th id=\"T_77ea4_level0_col4\" class=\"col_heading level0 col4\" >4</th>\n",
       "      <th id=\"T_77ea4_level0_col5\" class=\"col_heading level0 col5\" >5</th>\n",
       "      <th id=\"T_77ea4_level0_col6\" class=\"col_heading level0 col6\" >6</th>\n",
       "      <th id=\"T_77ea4_level0_col7\" class=\"col_heading level0 col7\" >7</th>\n",
       "    </tr>\n",
       "    <tr>\n",
       "      <th class=\"index_name level0\" >Crime Type</th>\n",
       "      <th class=\"blank col0\" >&nbsp;</th>\n",
       "      <th class=\"blank col1\" >&nbsp;</th>\n",
       "      <th class=\"blank col2\" >&nbsp;</th>\n",
       "      <th class=\"blank col3\" >&nbsp;</th>\n",
       "      <th class=\"blank col4\" >&nbsp;</th>\n",
       "      <th class=\"blank col5\" >&nbsp;</th>\n",
       "      <th class=\"blank col6\" >&nbsp;</th>\n",
       "      <th class=\"blank col7\" >&nbsp;</th>\n",
       "    </tr>\n",
       "  </thead>\n",
       "  <tbody>\n",
       "    <tr>\n",
       "      <th id=\"T_77ea4_level0_row0\" class=\"row_heading level0 row0\" >AGG ASSAULT</th>\n",
       "      <td id=\"T_77ea4_row0_col0\" class=\"data row0 col0\" >22411</td>\n",
       "      <td id=\"T_77ea4_row0_col1\" class=\"data row0 col1\" >1542</td>\n",
       "      <td id=\"T_77ea4_row0_col2\" class=\"data row0 col2\" >199</td>\n",
       "      <td id=\"T_77ea4_row0_col3\" class=\"data row0 col3\" >112</td>\n",
       "      <td id=\"T_77ea4_row0_col4\" class=\"data row0 col4\" >57</td>\n",
       "      <td id=\"T_77ea4_row0_col5\" class=\"data row0 col5\" >49</td>\n",
       "      <td id=\"T_77ea4_row0_col6\" class=\"data row0 col6\" >35</td>\n",
       "      <td id=\"T_77ea4_row0_col7\" class=\"data row0 col7\" >30</td>\n",
       "    </tr>\n",
       "    <tr>\n",
       "      <th id=\"T_77ea4_level0_row1\" class=\"row_heading level0 row1\" >HOMICIDE</th>\n",
       "      <td id=\"T_77ea4_row1_col0\" class=\"data row1 col0\" >693</td>\n",
       "      <td id=\"T_77ea4_row1_col1\" class=\"data row1 col1\" >274</td>\n",
       "      <td id=\"T_77ea4_row1_col2\" class=\"data row1 col2\" >35</td>\n",
       "      <td id=\"T_77ea4_row1_col3\" class=\"data row1 col3\" >7</td>\n",
       "      <td id=\"T_77ea4_row1_col4\" class=\"data row1 col4\" >10</td>\n",
       "      <td id=\"T_77ea4_row1_col5\" class=\"data row1 col5\" >5</td>\n",
       "      <td id=\"T_77ea4_row1_col6\" class=\"data row1 col6\" >1</td>\n",
       "      <td id=\"T_77ea4_row1_col7\" class=\"data row1 col7\" >4</td>\n",
       "    </tr>\n",
       "    <tr>\n",
       "      <th id=\"T_77ea4_level0_row2\" class=\"row_heading level0 row2\" >ROBBERY</th>\n",
       "      <td id=\"T_77ea4_row2_col0\" class=\"data row2 col0\" >18383</td>\n",
       "      <td id=\"T_77ea4_row2_col1\" class=\"data row2 col1\" >1101</td>\n",
       "      <td id=\"T_77ea4_row2_col2\" class=\"data row2 col2\" >130</td>\n",
       "      <td id=\"T_77ea4_row2_col3\" class=\"data row2 col3\" >80</td>\n",
       "      <td id=\"T_77ea4_row2_col4\" class=\"data row2 col4\" >44</td>\n",
       "      <td id=\"T_77ea4_row2_col5\" class=\"data row2 col5\" >28</td>\n",
       "      <td id=\"T_77ea4_row2_col6\" class=\"data row2 col6\" >16</td>\n",
       "      <td id=\"T_77ea4_row2_col7\" class=\"data row2 col7\" >11</td>\n",
       "    </tr>\n",
       "  </tbody>\n",
       "</table>\n"
      ],
      "text/plain": [
       "<pandas.io.formats.style.Styler at 0x1485fce90>"
      ]
     },
     "execution_count": 77,
     "metadata": {},
     "output_type": "execute_result"
    }
   ],
   "source": [
    "df_viz_violent = pd.DataFrame(ct_violent)\n",
    "df_viz_violent.style.background_gradient(cmap='Purples')"
   ]
  },
  {
   "cell_type": "code",
   "execution_count": 76,
   "id": "03e57378-2ac0-4078-8592-8d572989e70a",
   "metadata": {
    "tags": []
   },
   "outputs": [
    {
     "data": {
      "text/html": [
       "<style type=\"text/css\">\n",
       "#T_e77cb_row0_col0, #T_e77cb_row0_col2, #T_e77cb_row0_col3, #T_e77cb_row0_col4, #T_e77cb_row0_col5, #T_e77cb_row0_col6, #T_e77cb_row0_col7, #T_e77cb_row3_col1 {\n",
       "  background-color: #f7fcf5;\n",
       "  color: #000000;\n",
       "}\n",
       "#T_e77cb_row0_col1, #T_e77cb_row2_col5 {\n",
       "  background-color: #d1edcb;\n",
       "  color: #000000;\n",
       "}\n",
       "#T_e77cb_row1_col0 {\n",
       "  background-color: #dcf2d7;\n",
       "  color: #000000;\n",
       "}\n",
       "#T_e77cb_row1_col1 {\n",
       "  background-color: #f6fcf4;\n",
       "  color: #000000;\n",
       "}\n",
       "#T_e77cb_row1_col2 {\n",
       "  background-color: #3ea75a;\n",
       "  color: #f1f1f1;\n",
       "}\n",
       "#T_e77cb_row1_col3 {\n",
       "  background-color: #4eb264;\n",
       "  color: #f1f1f1;\n",
       "}\n",
       "#T_e77cb_row1_col4 {\n",
       "  background-color: #3fa95c;\n",
       "  color: #f1f1f1;\n",
       "}\n",
       "#T_e77cb_row1_col5 {\n",
       "  background-color: #70c274;\n",
       "  color: #000000;\n",
       "}\n",
       "#T_e77cb_row1_col6 {\n",
       "  background-color: #7fc97f;\n",
       "  color: #000000;\n",
       "}\n",
       "#T_e77cb_row1_col7 {\n",
       "  background-color: #29914a;\n",
       "  color: #f1f1f1;\n",
       "}\n",
       "#T_e77cb_row2_col0, #T_e77cb_row2_col1, #T_e77cb_row3_col2, #T_e77cb_row3_col3, #T_e77cb_row3_col4, #T_e77cb_row3_col5, #T_e77cb_row3_col6, #T_e77cb_row3_col7 {\n",
       "  background-color: #00441b;\n",
       "  color: #f1f1f1;\n",
       "}\n",
       "#T_e77cb_row2_col2 {\n",
       "  background-color: #17813d;\n",
       "  color: #f1f1f1;\n",
       "}\n",
       "#T_e77cb_row2_col3 {\n",
       "  background-color: #83cb82;\n",
       "  color: #000000;\n",
       "}\n",
       "#T_e77cb_row2_col4 {\n",
       "  background-color: #a3da9d;\n",
       "  color: #000000;\n",
       "}\n",
       "#T_e77cb_row2_col6 {\n",
       "  background-color: #cbebc5;\n",
       "  color: #000000;\n",
       "}\n",
       "#T_e77cb_row2_col7 {\n",
       "  background-color: #d5efcf;\n",
       "  color: #000000;\n",
       "}\n",
       "#T_e77cb_row3_col0 {\n",
       "  background-color: #2e964d;\n",
       "  color: #f1f1f1;\n",
       "}\n",
       "</style>\n",
       "<table id=\"T_e77cb\">\n",
       "  <thead>\n",
       "    <tr>\n",
       "      <th class=\"index_name level0\" >Daydif</th>\n",
       "      <th id=\"T_e77cb_level0_col0\" class=\"col_heading level0 col0\" >0</th>\n",
       "      <th id=\"T_e77cb_level0_col1\" class=\"col_heading level0 col1\" >1</th>\n",
       "      <th id=\"T_e77cb_level0_col2\" class=\"col_heading level0 col2\" >2</th>\n",
       "      <th id=\"T_e77cb_level0_col3\" class=\"col_heading level0 col3\" >3</th>\n",
       "      <th id=\"T_e77cb_level0_col4\" class=\"col_heading level0 col4\" >4</th>\n",
       "      <th id=\"T_e77cb_level0_col5\" class=\"col_heading level0 col5\" >5</th>\n",
       "      <th id=\"T_e77cb_level0_col6\" class=\"col_heading level0 col6\" >6</th>\n",
       "      <th id=\"T_e77cb_level0_col7\" class=\"col_heading level0 col7\" >7</th>\n",
       "    </tr>\n",
       "    <tr>\n",
       "      <th class=\"index_name level0\" >Crime Type</th>\n",
       "      <th class=\"blank col0\" >&nbsp;</th>\n",
       "      <th class=\"blank col1\" >&nbsp;</th>\n",
       "      <th class=\"blank col2\" >&nbsp;</th>\n",
       "      <th class=\"blank col3\" >&nbsp;</th>\n",
       "      <th class=\"blank col4\" >&nbsp;</th>\n",
       "      <th class=\"blank col5\" >&nbsp;</th>\n",
       "      <th class=\"blank col6\" >&nbsp;</th>\n",
       "      <th class=\"blank col7\" >&nbsp;</th>\n",
       "    </tr>\n",
       "  </thead>\n",
       "  <tbody>\n",
       "    <tr>\n",
       "      <th id=\"T_e77cb_level0_row0\" class=\"row_heading level0 row0\" >AUTO THEFT</th>\n",
       "      <td id=\"T_e77cb_row0_col0\" class=\"data row0 col0\" >24481</td>\n",
       "      <td id=\"T_e77cb_row0_col1\" class=\"data row0 col1\" >14633</td>\n",
       "      <td id=\"T_e77cb_row0_col2\" class=\"data row0 col2\" >1686</td>\n",
       "      <td id=\"T_e77cb_row0_col3\" class=\"data row0 col3\" >998</td>\n",
       "      <td id=\"T_e77cb_row0_col4\" class=\"data row0 col4\" >549</td>\n",
       "      <td id=\"T_e77cb_row0_col5\" class=\"data row0 col5\" >401</td>\n",
       "      <td id=\"T_e77cb_row0_col6\" class=\"data row0 col6\" >241</td>\n",
       "      <td id=\"T_e77cb_row0_col7\" class=\"data row0 col7\" >218</td>\n",
       "    </tr>\n",
       "    <tr>\n",
       "      <th id=\"T_e77cb_level0_row1\" class=\"row_heading level0 row1\" >BURGLARY</th>\n",
       "      <td id=\"T_e77cb_row1_col0\" class=\"data row1 col0\" >30986</td>\n",
       "      <td id=\"T_e77cb_row1_col1\" class=\"data row1 col1\" >10794</td>\n",
       "      <td id=\"T_e77cb_row1_col2\" class=\"data row1 col2\" >2602</td>\n",
       "      <td id=\"T_e77cb_row1_col3\" class=\"data row1 col3\" >1823</td>\n",
       "      <td id=\"T_e77cb_row1_col4\" class=\"data row1 col4\" >1138</td>\n",
       "      <td id=\"T_e77cb_row1_col5\" class=\"data row1 col5\" >756</td>\n",
       "      <td id=\"T_e77cb_row1_col6\" class=\"data row1 col6\" >541</td>\n",
       "      <td id=\"T_e77cb_row1_col7\" class=\"data row1 col7\" >691</td>\n",
       "    </tr>\n",
       "    <tr>\n",
       "      <th id=\"T_e77cb_level0_row2\" class=\"row_heading level0 row2\" >LARCENY-FROM VEHICLE</th>\n",
       "      <td id=\"T_e77cb_row2_col0\" class=\"data row2 col0\" >65045</td>\n",
       "      <td id=\"T_e77cb_row2_col1\" class=\"data row2 col1\" >29887</td>\n",
       "      <td id=\"T_e77cb_row2_col2\" class=\"data row2 col2\" >2817</td>\n",
       "      <td id=\"T_e77cb_row2_col3\" class=\"data row2 col3\" >1640</td>\n",
       "      <td id=\"T_e77cb_row2_col4\" class=\"data row2 col4\" >894</td>\n",
       "      <td id=\"T_e77cb_row2_col5\" class=\"data row2 col5\" >548</td>\n",
       "      <td id=\"T_e77cb_row2_col6\" class=\"data row2 col6\" >388</td>\n",
       "      <td id=\"T_e77cb_row2_col7\" class=\"data row2 col7\" >343</td>\n",
       "    </tr>\n",
       "    <tr>\n",
       "      <th id=\"T_e77cb_level0_row3\" class=\"row_heading level0 row3\" >LARCENY-NON VEHICLE</th>\n",
       "      <td id=\"T_e77cb_row3_col0\" class=\"data row3 col0\" >53033</td>\n",
       "      <td id=\"T_e77cb_row3_col1\" class=\"data row3 col1\" >10570</td>\n",
       "      <td id=\"T_e77cb_row3_col2\" class=\"data row3 col2\" >3116</td>\n",
       "      <td id=\"T_e77cb_row3_col3\" class=\"data row3 col3\" >2395</td>\n",
       "      <td id=\"T_e77cb_row3_col4\" class=\"data row3 col4\" >1482</td>\n",
       "      <td id=\"T_e77cb_row3_col5\" class=\"data row3 col5\" >1099</td>\n",
       "      <td id=\"T_e77cb_row3_col6\" class=\"data row3 col6\" >877</td>\n",
       "      <td id=\"T_e77cb_row3_col7\" class=\"data row3 col7\" >870</td>\n",
       "    </tr>\n",
       "  </tbody>\n",
       "</table>\n"
      ],
      "text/plain": [
       "<pandas.io.formats.style.Styler at 0x1487121d0>"
      ]
     },
     "execution_count": 76,
     "metadata": {},
     "output_type": "execute_result"
    }
   ],
   "source": [
    "df_viz_proprty = pd.DataFrame(ct_proprty)\n",
    "df_viz_proprty.style.background_gradient(cmap='Greens')"
   ]
  },
  {
   "cell_type": "markdown",
   "id": "abcf97bd-9378-41af-8138-883834c17e74",
   "metadata": {
    "tags": []
   },
   "source": [
    "#### 2) Contingency Table - Hues by Cells"
   ]
  },
  {
   "cell_type": "code",
   "execution_count": 70,
   "id": "9ed5ff51-75fc-4dbc-a31a-408968023036",
   "metadata": {
    "tags": []
   },
   "outputs": [
    {
     "data": {
      "image/png": "[encoded data removed]",
      "text/plain": [
       "<Figure size 800x640 with 2 Axes>"
      ]
     },
     "metadata": {},
     "output_type": "display_data"
    }
   ],
   "source": [
    "import seaborn as sns; sns.set()\n",
    "import matplotlib.pyplot as plt\n",
    "\n",
    "fig = plt.figure(num=None, figsize=(10, 8), dpi=80, facecolor='w', edgecolor='k')\n",
    "plt.clf()\n",
    "\n",
    "ax = fig.add_subplot(111)\n",
    "ax.set_aspect(1)\n",
    "\n",
    "res = sns.heatmap(df_viz, annot=True, fmt='d', cmap=\"flare\", vmin=0.0, vmax=100.0)\n",
    "\n",
    "plt.title('Contingency Table \\n - Crime Type and Day Difference -',fontsize=15)\n",
    "# plt.savefig(\"plot_contingency_table_crimetype_daydif.png\", bbox_inches='tight', dpi=100)\n",
    "\n",
    "plt.show()"
   ]
  },
  {
   "cell_type": "code",
   "execution_count": 11,
   "id": "c4cf2b99-e643-4cd3-a7f4-e8ab6ab831c9",
   "metadata": {
    "tags": []
   },
   "outputs": [],
   "source": [
    "# df_viz.drop([0], axis=1, inplace=True)\n",
    "# df_viz"
   ]
  },
  {
   "cell_type": "markdown",
   "id": "161402d6-ae35-4d0b-bb0a-42e877754d6b",
   "metadata": {
    "tags": []
   },
   "source": [
    "#### 3) Stacked Bar Chart - Crime Type by Day Difference"
   ]
  },
  {
   "cell_type": "code",
   "execution_count": 12,
   "id": "9eff990c-4613-42a5-93f9-389eb45728ff",
   "metadata": {
    "tags": []
   },
   "outputs": [
    {
     "data": {
      "text/plain": [
       "<matplotlib.legend.Legend at 0x167b0a990>"
      ]
     },
     "execution_count": 12,
     "metadata": {},
     "output_type": "execute_result"
    },
    {
     "data": {
      "image/png": "[encoded data removed]",
      "text/plain": [
       "<Figure size 800x600 with 1 Axes>"
      ]
     },
     "metadata": {},
     "output_type": "display_data"
    }
   ],
   "source": [
    "ax = df_viz.plot(kind='bar', figsize=(8, 6), stacked=True, rot=30)\n",
    "\n",
    "# aannotations\n",
    "# for c in ax.containers:\n",
    "    # set the bar label\n",
    "    # ax.bar_label(c, label_type='center')\n",
    "    \n",
    "ax.set_title('Stacked Bar Chart \\n - Crime Type and Day Difference -',fontsize=12)\n",
    "\n",
    "ax.legend(title = 'Day Difference', fancybox = True)    "
   ]
  },
  {
   "cell_type": "markdown",
   "id": "67cfe85e-f639-4a63-af0c-6e1efecf3a81",
   "metadata": {},
   "source": [
    "#### 4) Histogram for Crime Type"
   ]
  },
  {
   "cell_type": "code",
   "execution_count": 45,
   "id": "66eccf3a-7b1f-4c8b-be6f-ad7165e35be6",
   "metadata": {
    "tags": []
   },
   "outputs": [
    {
     "data": {
      "text/html": [
       "<div>\n",
       "<style scoped>\n",
       "    .dataframe tbody tr th:only-of-type {\n",
       "        vertical-align: middle;\n",
       "    }\n",
       "\n",
       "    .dataframe tbody tr th {\n",
       "        vertical-align: top;\n",
       "    }\n",
       "\n",
       "    .dataframe thead th {\n",
       "        text-align: right;\n",
       "    }\n",
       "</style>\n",
       "<table border=\"1\" class=\"dataframe\">\n",
       "  <thead>\n",
       "    <tr style=\"text-align: right;\">\n",
       "      <th>Crime Type</th>\n",
       "      <th>AGG ASSAULT</th>\n",
       "      <th>AUTO THEFT</th>\n",
       "      <th>BURGLARY</th>\n",
       "      <th>HOMICIDE</th>\n",
       "      <th>LARCENY-FROM VEHICLE</th>\n",
       "      <th>LARCENY-NON VEHICLE</th>\n",
       "      <th>ROBBERY</th>\n",
       "    </tr>\n",
       "    <tr>\n",
       "      <th>Daydif</th>\n",
       "      <th></th>\n",
       "      <th></th>\n",
       "      <th></th>\n",
       "      <th></th>\n",
       "      <th></th>\n",
       "      <th></th>\n",
       "      <th></th>\n",
       "    </tr>\n",
       "  </thead>\n",
       "  <tbody>\n",
       "    <tr>\n",
       "      <th>0</th>\n",
       "      <td>22411</td>\n",
       "      <td>24481</td>\n",
       "      <td>30986</td>\n",
       "      <td>693</td>\n",
       "      <td>65045</td>\n",
       "      <td>53033</td>\n",
       "      <td>18383</td>\n",
       "    </tr>\n",
       "    <tr>\n",
       "      <th>1</th>\n",
       "      <td>1542</td>\n",
       "      <td>14633</td>\n",
       "      <td>10794</td>\n",
       "      <td>274</td>\n",
       "      <td>29887</td>\n",
       "      <td>10570</td>\n",
       "      <td>1101</td>\n",
       "    </tr>\n",
       "    <tr>\n",
       "      <th>2</th>\n",
       "      <td>199</td>\n",
       "      <td>1686</td>\n",
       "      <td>2602</td>\n",
       "      <td>35</td>\n",
       "      <td>2817</td>\n",
       "      <td>3116</td>\n",
       "      <td>130</td>\n",
       "    </tr>\n",
       "    <tr>\n",
       "      <th>3</th>\n",
       "      <td>112</td>\n",
       "      <td>998</td>\n",
       "      <td>1823</td>\n",
       "      <td>7</td>\n",
       "      <td>1640</td>\n",
       "      <td>2395</td>\n",
       "      <td>80</td>\n",
       "    </tr>\n",
       "    <tr>\n",
       "      <th>4</th>\n",
       "      <td>57</td>\n",
       "      <td>549</td>\n",
       "      <td>1138</td>\n",
       "      <td>10</td>\n",
       "      <td>894</td>\n",
       "      <td>1482</td>\n",
       "      <td>44</td>\n",
       "    </tr>\n",
       "    <tr>\n",
       "      <th>5</th>\n",
       "      <td>49</td>\n",
       "      <td>401</td>\n",
       "      <td>756</td>\n",
       "      <td>5</td>\n",
       "      <td>548</td>\n",
       "      <td>1099</td>\n",
       "      <td>28</td>\n",
       "    </tr>\n",
       "    <tr>\n",
       "      <th>6</th>\n",
       "      <td>35</td>\n",
       "      <td>241</td>\n",
       "      <td>541</td>\n",
       "      <td>1</td>\n",
       "      <td>388</td>\n",
       "      <td>877</td>\n",
       "      <td>16</td>\n",
       "    </tr>\n",
       "    <tr>\n",
       "      <th>7</th>\n",
       "      <td>30</td>\n",
       "      <td>218</td>\n",
       "      <td>691</td>\n",
       "      <td>4</td>\n",
       "      <td>343</td>\n",
       "      <td>870</td>\n",
       "      <td>11</td>\n",
       "    </tr>\n",
       "  </tbody>\n",
       "</table>\n",
       "</div>"
      ],
      "text/plain": [
       "Crime Type  AGG ASSAULT  AUTO THEFT  BURGLARY  HOMICIDE  LARCENY-FROM VEHICLE  \\\n",
       "Daydif                                                                          \n",
       "0                 22411       24481     30986       693                 65045   \n",
       "1                  1542       14633     10794       274                 29887   \n",
       "2                   199        1686      2602        35                  2817   \n",
       "3                   112         998      1823         7                  1640   \n",
       "4                    57         549      1138        10                   894   \n",
       "5                    49         401       756         5                   548   \n",
       "6                    35         241       541         1                   388   \n",
       "7                    30         218       691         4                   343   \n",
       "\n",
       "Crime Type  LARCENY-NON VEHICLE  ROBBERY  \n",
       "Daydif                                    \n",
       "0                         53033    18383  \n",
       "1                         10570     1101  \n",
       "2                          3116      130  \n",
       "3                          2395       80  \n",
       "4                          1482       44  \n",
       "5                          1099       28  \n",
       "6                           877       16  \n",
       "7                           870       11  "
      ]
     },
     "execution_count": 45,
     "metadata": {},
     "output_type": "execute_result"
    }
   ],
   "source": [
    "# Transpose dataset\n",
    "df_viz2 = df_viz.transpose()\n",
    "df_viz2"
   ]
  },
  {
   "cell_type": "code",
   "execution_count": 78,
   "id": "aa848ebf-5d22-4c31-9d8d-6596102a3f4c",
   "metadata": {},
   "outputs": [
    {
     "data": {
      "image/png": "[encoded data removed]",
      "text/plain": [
       "<Figure size 640x480 with 1 Axes>"
      ]
     },
     "metadata": {},
     "output_type": "display_data"
    }
   ],
   "source": [
    "sns.countplot(df[df[\"Crime Type\"]==\"BURGLARY\"], x=\"Daydif\")\n",
    "\n",
    "# Set the title and axis labels\n",
    "plt.title('Countplot of BURGLARY')\n",
    "plt.xlabel('Counts')\n",
    "plt.ylabel('Day Difference')\n",
    "\n",
    "# Display the histogram\n",
    "plt.show()"
   ]
  },
  {
   "cell_type": "code",
   "execution_count": 59,
   "id": "7431ecb9-49a4-445f-aaa6-7e9b570707da",
   "metadata": {},
   "outputs": [
    {
     "data": {
      "text/plain": [
       "Text(0.5, 1.0, 'Histogram of BURGLARY')"
      ]
     },
     "execution_count": 59,
     "metadata": {},
     "output_type": "execute_result"
    },
    {
     "data": {
      "image/png": "[encoded data removed]",
      "text/plain": [
       "<Figure size 1200x800 with 1 Axes>"
      ]
     },
     "metadata": {},
     "output_type": "display_data"
    }
   ],
   "source": [
    "fig = plt.figure(figsize=(12,8))\n",
    "ax = sns.countplot(df[df[\"Crime Type\"]==\"BURGLARY\"], x=df[\"Daydif\"],\n",
    "                   order=df[\"Daydif\"].value_counts(ascending=False).index)\n",
    "        \n",
    "abs_values = df[\"Daydif\"].value_counts(ascending=False)\n",
    "rel_values = df[\"Daydif\"].value_counts(ascending=False, normalize=True).values * 100\n",
    "lbls = [f'{p[0]} ({p[1]:.0f}%)' for p in zip(abs_values, rel_values)]\n",
    "\n",
    "ax.bar_label(container=ax.containers[0], labels=lbls)\n",
    "\n",
    "plt.title('Histogram of BURGLARY')"
   ]
  }
 ],
 "metadata": {
  "kernelspec": {
   "display_name": "Python 3 (ipykernel)",
   "language": "python",
   "name": "python3"
  },
  "language_info": {
   "codemirror_mode": {
    "name": "ipython",
    "version": 3
   },
   "file_extension": ".py",
   "mimetype": "text/x-python",
   "name": "python",
   "nbconvert_exporter": "python",
   "pygments_lexer": "ipython3",
   "version": "3.11.4"
  }
 },
 "nbformat": 4,
 "nbformat_minor": 5
}
